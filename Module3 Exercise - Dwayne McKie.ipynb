{
 "cells": [
  {
   "cell_type": "markdown",
   "metadata": {},
   "source": [
    "1. Print cookies and milk are a great dessert."
   ]
  },
  {
   "cell_type": "code",
   "execution_count": 1,
   "metadata": {},
   "outputs": [
    {
     "name": "stdout",
     "output_type": "stream",
     "text": [
      "Cookies and milk are a great dessert.\n"
     ]
    }
   ],
   "source": [
    "print(\"Cookies and milk are a great dessert.\")"
   ]
  },
  {
   "cell_type": "markdown",
   "metadata": {},
   "source": [
    "2. Print out your favorite color and above the code, comment what you are doing."
   ]
  },
  {
   "cell_type": "code",
   "execution_count": 2,
   "metadata": {},
   "outputs": [
    {
     "name": "stdout",
     "output_type": "stream",
     "text": [
      "Blue is my favorite color\n"
     ]
    }
   ],
   "source": [
    "# use the print() built-in function to print/display a string containing the name of my favorite color\n",
    "\n",
    "print(\"Blue is my favorite color\")\n"
   ]
  },
  {
   "cell_type": "markdown",
   "metadata": {},
   "source": [
    "3. Print out your favorite color again and add an in-line comment."
   ]
  },
  {
   "cell_type": "code",
   "execution_count": 12,
   "metadata": {},
   "outputs": [
    {
     "name": "stdout",
     "output_type": "stream",
     "text": [
      "Blue is my favorite color\n"
     ]
    }
   ],
   "source": [
    "print(\"Blue is my favorite color\") #print/display my favorite color as a string"
   ]
  },
  {
   "cell_type": "markdown",
   "metadata": {},
   "source": [
    "4. Print the sumation of numbers 1 to 10"
   ]
  },
  {
   "cell_type": "code",
   "execution_count": 3,
   "metadata": {},
   "outputs": [
    {
     "name": "stdout",
     "output_type": "stream",
     "text": [
      "55\n"
     ]
    }
   ],
   "source": [
    "#use the print built-in function to display the sumation of numbers 1 to 10\n",
    "print(1 + 2 + 3 + 4 + 5 + 6 + 7 + 8 + 9 + 10)"
   ]
  },
  {
   "cell_type": "markdown",
   "metadata": {},
   "source": [
    "5. Print what 6 to the 7th power is."
   ]
  },
  {
   "cell_type": "code",
   "execution_count": 4,
   "metadata": {},
   "outputs": [
    {
     "name": "stdout",
     "output_type": "stream",
     "text": [
      "279936\n"
     ]
    }
   ],
   "source": [
    "#use the print built-in function to display the computation of 6 to the 7th power\n",
    "print(6 ** 7)"
   ]
  },
  {
   "cell_type": "markdown",
   "metadata": {},
   "source": [
    "6. Print the remainder of 100 divided by 11. "
   ]
  },
  {
   "cell_type": "code",
   "execution_count": 5,
   "metadata": {},
   "outputs": [
    {
     "name": "stdout",
     "output_type": "stream",
     "text": [
      "1\n"
     ]
    }
   ],
   "source": [
    "#use the print built-in function to display the remainder of 100 divided by 11\n",
    "print(100 % 11)"
   ]
  },
  {
   "cell_type": "markdown",
   "metadata": {},
   "source": [
    "7. What is the result of \"Python\" + \"1\""
   ]
  },
  {
   "cell_type": "code",
   "execution_count": 6,
   "metadata": {},
   "outputs": [
    {
     "name": "stdout",
     "output_type": "stream",
     "text": [
      "Python1\n"
     ]
    }
   ],
   "source": [
    "#use the print built-in function to display the concatenation of the strings \"Python\" and \"1\"\n",
    "print (\"Python\" + \"1\")"
   ]
  },
  {
   "cell_type": "markdown",
   "metadata": {},
   "source": [
    "8. Print out 100 divided by 5"
   ]
  },
  {
   "cell_type": "code",
   "execution_count": 7,
   "metadata": {},
   "outputs": [
    {
     "name": "stdout",
     "output_type": "stream",
     "text": [
      "20.0\n"
     ]
    }
   ],
   "source": [
    "#use the print built-in function to display the result of 100 divided by 5\n",
    "print(100 / 5)"
   ]
  },
  {
   "cell_type": "markdown",
   "metadata": {},
   "source": [
    "9. What is the different between 10/4 and 10//4?  Print out the result"
   ]
  },
  {
   "cell_type": "code",
   "execution_count": 1,
   "metadata": {},
   "outputs": [
    {
     "name": "stdout",
     "output_type": "stream",
     "text": [
      "2.5\n",
      "2\n"
     ]
    }
   ],
   "source": [
    "print(10 / 4) #this code will display the result of 10 divided by 4\n",
    "print(10 // 4) #this code will display the result of the truncation (integer value) of 10 divided by 4"
   ]
  },
  {
   "cell_type": "markdown",
   "metadata": {},
   "source": [
    "10. Create a variable named food that stores a string value."
   ]
  },
  {
   "cell_type": "code",
   "execution_count": 17,
   "metadata": {},
   "outputs": [],
   "source": [
    "#create a variable (named \"food\") that will store a string value\n",
    "food = \"Banana\""
   ]
  },
  {
   "cell_type": "markdown",
   "metadata": {},
   "source": [
    "11. Print food variable"
   ]
  },
  {
   "cell_type": "code",
   "execution_count": 18,
   "metadata": {},
   "outputs": [
    {
     "name": "stdout",
     "output_type": "stream",
     "text": [
      "Banana\n"
     ]
    }
   ],
   "source": [
    "#use the print built-in function to display the value stored in the variable named \"food\"\n",
    "print(food)"
   ]
  },
  {
   "cell_type": "markdown",
   "metadata": {},
   "source": [
    "12. Create a variable called height and store your height value there.\n",
    "Print a sentence describing your height and use the variable in the sentence as well."
   ]
  },
  {
   "cell_type": "code",
   "execution_count": 16,
   "metadata": {},
   "outputs": [
    {
     "name": "stdout",
     "output_type": "stream",
     "text": [
      "I am 70 inches tall.\n"
     ]
    }
   ],
   "source": [
    "#create a variable (named \"height\") that will store the numeric value of my height\n",
    "height = 70\n",
    "\n",
    "#use the print built-in function to display my height while using the variable named \"height\" in a sentence\n",
    "print(\"I am\", height, \"inches tall.\")"
   ]
  },
  {
   "cell_type": "markdown",
   "metadata": {},
   "source": [
    "13. Concatenate two strings together using variables and print out the result"
   ]
  },
  {
   "cell_type": "code",
   "execution_count": 19,
   "metadata": {},
   "outputs": [
    {
     "name": "stdout",
     "output_type": "stream",
     "text": [
      "Slovakia & Czech Republic was once Czechoslovakia.\n"
     ]
    }
   ],
   "source": [
    "#create 2 variables that each will store a string value\n",
    "country1 = \"Slovakia & Czech Republic\"\n",
    "country2 = \" was once Czechoslovakia.\"\n",
    "\n",
    "#use the print built-in function to display the concatenation of the string values that are contained in the 2 variables\n",
    "print(country1 + country2)"
   ]
  },
  {
   "cell_type": "markdown",
   "metadata": {},
   "source": [
    "14. Use the two different quotes in a string and print out the sentence"
   ]
  },
  {
   "cell_type": "code",
   "execution_count": 20,
   "metadata": {},
   "outputs": [
    {
     "name": "stdout",
     "output_type": "stream",
     "text": [
      "Slovakia & Czech Republic was once Czechoslovakia.\n"
     ]
    }
   ],
   "source": [
    "#combine the 2 string values from the previous cell into a single string and display the result using the print\n",
    "#built-in function\n",
    "print(\"Slovakia & Czech Republic was once Czechoslovakia.\" )"
   ]
  },
  {
   "cell_type": "markdown",
   "metadata": {},
   "source": [
    "15. Print out Hello World! 7 times each on a new line using only one line of code."
   ]
  },
  {
   "cell_type": "code",
   "execution_count": 15,
   "metadata": {},
   "outputs": [
    {
     "name": "stdout",
     "output_type": "stream",
     "text": [
      "Hello World!\n",
      "Hello World!\n",
      "Hello World!\n",
      "Hello World!\n",
      "Hello World!\n",
      "Hello World!\n",
      "Hello World!\n",
      "\n"
     ]
    }
   ],
   "source": [
    "#use the print built-in function to display the string \"Hello World!\" 7 times (each on a new line)\n",
    "#while using only one line of code\n",
    "#the \"\\n\" special character (new line) will make this possible\n",
    "print(\"Hello World!\\nHello World!\\nHello World!\\nHello World!\\nHello World!\\nHello World!\\nHello World!\\n\")\n"
   ]
  },
  {
   "cell_type": "markdown",
   "metadata": {},
   "source": [
    "16. What is the result of \"apple\" > \"Apple\""
   ]
  },
  {
   "cell_type": "code",
   "execution_count": 2,
   "metadata": {},
   "outputs": [
    {
     "data": {
      "text/plain": [
       "True"
      ]
     },
     "execution_count": 2,
     "metadata": {},
     "output_type": "execute_result"
    }
   ],
   "source": [
    "#this is boolean (True/False) expression\n",
    "\"apple\" > \"Apple\""
   ]
  },
  {
   "cell_type": "markdown",
   "metadata": {},
   "source": [
    "The result of \"apple\" > \"Apple\" is True."
   ]
  },
  {
   "cell_type": "markdown",
   "metadata": {},
   "source": [
    "17. Print out if 25 multiplied by 54 is bigger than 33 multipled by 33"
   ]
  },
  {
   "cell_type": "code",
   "execution_count": 28,
   "metadata": {},
   "outputs": [
    {
     "name": "stdout",
     "output_type": "stream",
     "text": [
      "25 x 54 is bigger than 33 x 33...\n"
     ]
    }
   ],
   "source": [
    "#an \"if\" statement is used to print out a string if the boolean expression is True\n",
    "\n",
    "if (25 * 54) > (33 * 33):\n",
    "    print (\"25 x 54 is bigger than 33 x 33...\")\n",
    "\n"
   ]
  },
  {
   "cell_type": "markdown",
   "metadata": {},
   "source": [
    "18. What is the result of of 123 == “123”?"
   ]
  },
  {
   "cell_type": "code",
   "execution_count": 11,
   "metadata": {},
   "outputs": [
    {
     "data": {
      "text/plain": [
       "False"
      ]
     },
     "execution_count": 11,
     "metadata": {},
     "output_type": "execute_result"
    }
   ],
   "source": [
    "#this is a boolean expression (True/False)\n",
    "123 == \"123\""
   ]
  },
  {
   "cell_type": "markdown",
   "metadata": {},
   "source": [
    "The result of 123 == \"123\" is False"
   ]
  },
  {
   "cell_type": "markdown",
   "metadata": {},
   "source": [
    "19. Ask a user for width and length of a rectangle. Then compute its area and perimeter."
   ]
  },
  {
   "cell_type": "code",
   "execution_count": 3,
   "metadata": {},
   "outputs": [
    {
     "name": "stdout",
     "output_type": "stream",
     "text": [
      "Enter the width of the rectangle:\n",
      ">5.5\n",
      "Enter the length of the rectangle:\n",
      ">6.25\n",
      "The area of the rectangle is 34.375\n",
      "The perimeter of the rectangle is 11.75\n"
     ]
    }
   ],
   "source": [
    "prompt = \">\"\n",
    "\n",
    "#ask user to enter the width of rectangle\n",
    "print(\"Enter the width of the rectangle:\")\n",
    "\n",
    "#convert entry into a float and store value into a variable\n",
    "width = float(input(prompt))\n",
    "\n",
    "#ask user to enter the length of rectangle\n",
    "print(\"Enter the length of the rectangle:\")\n",
    "\n",
    "#convert user entry into a float and store value into a variable\n",
    "length = float(input(prompt))\n",
    "\n",
    "#compute perimeter of rectangle and store value into a variable\n",
    "perimeter = width + length\n",
    "\n",
    "#compute area of rectangle and store value into a variable\n",
    "area = width * length\n",
    "\n",
    "#display/show value of area of rectangle\n",
    "print(\"The area of the rectangle is\", area)\n",
    "\n",
    "#display/show value of perimeter of rectangle\n",
    "print(\"The perimeter of the rectangle is\", perimeter)"
   ]
  },
  {
   "cell_type": "markdown",
   "metadata": {},
   "source": [
    "20. Ask a user for two whole numbers. Then compute their sum and difference."
   ]
  },
  {
   "cell_type": "code",
   "execution_count": 5,
   "metadata": {},
   "outputs": [
    {
     "name": "stdout",
     "output_type": "stream",
     "text": [
      "Enter a whole number:\n",
      ">50\n",
      "Enter another whole number:\n",
      ">32\n",
      "The sum of the two whole numbers is 82\n",
      "The difference of the two whole numbers is 18\n"
     ]
    }
   ],
   "source": [
    "prompt = \">\"\n",
    "\n",
    "#ask user to enter a whole number\n",
    "print(\"Enter a whole number:\")\n",
    "\n",
    "#convert entry into an integer (int) and store value into a variable\n",
    "numb1 = int(input(prompt))\n",
    "\n",
    "#ask user to enter another whole number\n",
    "print(\"Enter another whole number:\")\n",
    "\n",
    "#convert entry into a integer (int) and store value into a variable\n",
    "numb2 = int(input(prompt))\n",
    "\n",
    "#compute the sum of the 2 whole numbers entered by user\n",
    "addition = numb1 + numb2\n",
    "\n",
    "#compute the difference of the 2 whole numbers entered by user\n",
    "subtraction = numb1 - numb2\n",
    "\n",
    "\n",
    "#print(f\"{numb1} + {numb2} = {addition}\")\n",
    "#print(f\"{numb1} - {numb2} = {subtraction}\")\n",
    "\n",
    "#display the sum of the 2 whole numbers entered by user\n",
    "print(\"The sum of the two whole numbers is\", addition)\n",
    "\n",
    "#display the difference of the 2 whole numbers entered by user\n",
    "print(\"The difference of the two whole numbers is\", subtraction)\n",
    "\n",
    "\n",
    "#formatted print\n",
    "#print(f\"The sum of the two whole numbers is {addition}\")\n",
    "#print(f\"The difference of the two whole numbers is {subtraction}\")"
   ]
  },
  {
   "cell_type": "code",
   "execution_count": null,
   "metadata": {},
   "outputs": [],
   "source": []
  }
 ],
 "metadata": {
  "kernelspec": {
   "display_name": "Python 3",
   "language": "python",
   "name": "python3"
  },
  "language_info": {
   "codemirror_mode": {
    "name": "ipython",
    "version": 3
   },
   "file_extension": ".py",
   "mimetype": "text/x-python",
   "name": "python",
   "nbconvert_exporter": "python",
   "pygments_lexer": "ipython3",
   "version": "3.8.8"
  }
 },
 "nbformat": 4,
 "nbformat_minor": 4
}
